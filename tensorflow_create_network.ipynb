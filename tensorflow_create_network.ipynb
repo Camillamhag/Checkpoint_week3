{
  "nbformat": 4,
  "nbformat_minor": 0,
  "metadata": {
    "colab": {
      "name": "Untitled0.ipynb",
      "provenance": [],
      "authorship_tag": "ABX9TyPcKkGZHiUYarUbhjot1JXW",
      "include_colab_link": true
    },
    "kernelspec": {
      "name": "python3",
      "display_name": "Python 3"
    }
  },
  "cells": [
    {
      "cell_type": "markdown",
      "metadata": {
        "id": "view-in-github",
        "colab_type": "text"
      },
      "source": [
        "<a href=\"https://colab.research.google.com/github/Camillamhag/Checkpoint_week3/blob/master/tensorflow_create_network.ipynb\" target=\"_parent\"><img src=\"https://colab.research.google.com/assets/colab-badge.svg\" alt=\"Open In Colab\"/></a>"
      ]
    },
    {
      "cell_type": "code",
      "metadata": {
        "id": "aqXNZE-eyZLb",
        "colab_type": "code",
        "colab": {
          "base_uri": "https://localhost:8080/",
          "height": 104
        },
        "outputId": "68fbded1-a61f-4946-c746-448c9f933437"
      },
      "source": [
        "\n",
        "from tensorflow.keras.layers import Dense, Input\n",
        "\n",
        "#df = pd.read_csv(\"checkpoint_heart_failure_clinical_records_dataset.csv\")\n",
        "#X = ['DEATH_EVENT','time', 'age'] \n",
        "\n",
        "#create network\n",
        "#input \n",
        "input_layer = Input(shape=(3,))#tuple slutter med komma.\n",
        "first_hidden_layer=Dense(4)(input_layer)\n",
        "output_layer=Dense(2)(first_hidden_layer)\n",
        "#output med dense1=-0.892\n",
        "#output med dense2=-0.0797, 0.3212 (hvor mange outputer man ønsker )\n",
        "print(first_hidden_layer.shape)\n",
        "\n",
        "#kombiner input og output for å lage en model:\n",
        "#før vi får inn noe data velger vi vår modell.\n",
        "from tensorflow.keras.models import Model\n",
        "my_model = Model(inputs=input_layer, outputs=output_layer)\n",
        "\n",
        "\n",
        "#Lag dataene og må være i formen (Instance og features) i hendhold til 2 dimensjonal.\n",
        "import numpy as np\n",
        "X = np.array([0.2, 0.65, 0.31]). reshape(1,3)\n",
        "print(X.shape)\n",
        "prediction=my_model.predict(X)\n",
        "print(prediction)\n",
        "\n",
        "\n",
        "#test_instance = np.array([])\n",
        "#my_model.predict()\n",
        "\n",
        "\n",
        "\n",
        "\n",
        "\n",
        "\n"
      ],
      "execution_count": 9,
      "outputs": [
        {
          "output_type": "stream",
          "text": [
            "(None, 4)\n",
            "(1, 3)\n",
            "WARNING:tensorflow:6 out of the last 6 calls to <function Model.make_predict_function.<locals>.predict_function at 0x7f17c8769ae8> triggered tf.function retracing. Tracing is expensive and the excessive number of tracings could be due to (1) creating @tf.function repeatedly in a loop, (2) passing tensors with different shapes, (3) passing Python objects instead of tensors. For (1), please define your @tf.function outside of the loop. For (2), @tf.function has experimental_relax_shapes=True option that relaxes argument shapes that can avoid unnecessary retracing. For (3), please refer to https://www.tensorflow.org/tutorials/customization/performance#python_or_tensor_args and https://www.tensorflow.org/api_docs/python/tf/function for  more details.\n",
            "[[-0.13226907 -0.10750388]]\n"
          ],
          "name": "stdout"
        }
      ]
    }
  ]
}